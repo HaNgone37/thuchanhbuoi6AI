{
 "cells": [
  {
   "cell_type": "code",
   "execution_count": 1,
   "metadata": {},
   "outputs": [
    {
     "name": "stdout",
     "output_type": "stream",
     "text": [
      "Requirement already satisfied: streamlit in c:\\users\\hango\\miniconda3\\lib\\site-packages (1.43.1)\n",
      "Requirement already satisfied: altair<6,>=4.0 in c:\\users\\hango\\miniconda3\\lib\\site-packages (from streamlit) (5.5.0)\n",
      "Requirement already satisfied: blinker<2,>=1.0.0 in c:\\users\\hango\\miniconda3\\lib\\site-packages (from streamlit) (1.9.0)\n",
      "Requirement already satisfied: cachetools<6,>=4.0 in c:\\users\\hango\\miniconda3\\lib\\site-packages (from streamlit) (5.5.2)\n",
      "Requirement already satisfied: click<9,>=7.0 in c:\\users\\hango\\miniconda3\\lib\\site-packages (from streamlit) (8.1.7)\n",
      "Requirement already satisfied: numpy<3,>=1.23 in c:\\users\\hango\\miniconda3\\lib\\site-packages (from streamlit) (1.26.4)\n",
      "Requirement already satisfied: packaging<25,>=20 in c:\\users\\hango\\miniconda3\\lib\\site-packages (from streamlit) (23.2)\n",
      "Requirement already satisfied: pandas<3,>=1.4.0 in c:\\users\\hango\\miniconda3\\lib\\site-packages (from streamlit) (2.2.2)\n",
      "Requirement already satisfied: pillow<12,>=7.1.0 in c:\\users\\hango\\miniconda3\\lib\\site-packages (from streamlit) (10.4.0)\n",
      "Requirement already satisfied: protobuf<6,>=3.20 in c:\\users\\hango\\miniconda3\\lib\\site-packages (from streamlit) (5.29.1)\n",
      "Requirement already satisfied: pyarrow>=7.0 in c:\\users\\hango\\miniconda3\\lib\\site-packages (from streamlit) (19.0.1)\n",
      "Requirement already satisfied: requests<3,>=2.27 in c:\\users\\hango\\miniconda3\\lib\\site-packages (from streamlit) (2.32.2)\n",
      "Requirement already satisfied: tenacity<10,>=8.1.0 in c:\\users\\hango\\miniconda3\\lib\\site-packages (from streamlit) (9.0.0)\n",
      "Requirement already satisfied: toml<2,>=0.10.1 in c:\\users\\hango\\miniconda3\\lib\\site-packages (from streamlit) (0.10.2)\n",
      "Requirement already satisfied: typing-extensions<5,>=4.4.0 in c:\\users\\hango\\miniconda3\\lib\\site-packages (from streamlit) (4.11.0)\n",
      "Requirement already satisfied: watchdog<7,>=2.1.5 in c:\\users\\hango\\miniconda3\\lib\\site-packages (from streamlit) (4.0.1)\n",
      "Requirement already satisfied: gitpython!=3.1.19,<4,>=3.0.7 in c:\\users\\hango\\miniconda3\\lib\\site-packages (from streamlit) (3.1.44)\n",
      "Requirement already satisfied: pydeck<1,>=0.8.0b4 in c:\\users\\hango\\miniconda3\\lib\\site-packages (from streamlit) (0.9.1)\n",
      "Requirement already satisfied: tornado<7,>=6.0.3 in c:\\users\\hango\\miniconda3\\lib\\site-packages (from streamlit) (6.4.1)\n",
      "Requirement already satisfied: jinja2 in c:\\users\\hango\\miniconda3\\lib\\site-packages (from altair<6,>=4.0->streamlit) (3.1.4)\n",
      "Requirement already satisfied: jsonschema>=3.0 in c:\\users\\hango\\miniconda3\\lib\\site-packages (from altair<6,>=4.0->streamlit) (4.19.2)\n",
      "Requirement already satisfied: narwhals>=1.14.2 in c:\\users\\hango\\miniconda3\\lib\\site-packages (from altair<6,>=4.0->streamlit) (1.30.0)\n",
      "Requirement already satisfied: colorama in c:\\users\\hango\\miniconda3\\lib\\site-packages (from click<9,>=7.0->streamlit) (0.4.6)\n",
      "Requirement already satisfied: gitdb<5,>=4.0.1 in c:\\users\\hango\\miniconda3\\lib\\site-packages (from gitpython!=3.1.19,<4,>=3.0.7->streamlit) (4.0.12)\n",
      "Requirement already satisfied: python-dateutil>=2.8.2 in c:\\users\\hango\\miniconda3\\lib\\site-packages (from pandas<3,>=1.4.0->streamlit) (2.9.0.post0)\n",
      "Requirement already satisfied: pytz>=2020.1 in c:\\users\\hango\\miniconda3\\lib\\site-packages (from pandas<3,>=1.4.0->streamlit) (2024.1)\n",
      "Requirement already satisfied: tzdata>=2022.7 in c:\\users\\hango\\miniconda3\\lib\\site-packages (from pandas<3,>=1.4.0->streamlit) (2023.3)\n",
      "Requirement already satisfied: charset-normalizer<4,>=2 in c:\\users\\hango\\miniconda3\\lib\\site-packages (from requests<3,>=2.27->streamlit) (2.0.4)\n",
      "Requirement already satisfied: idna<4,>=2.5 in c:\\users\\hango\\miniconda3\\lib\\site-packages (from requests<3,>=2.27->streamlit) (3.7)\n",
      "Requirement already satisfied: urllib3<3,>=1.21.1 in c:\\users\\hango\\miniconda3\\lib\\site-packages (from requests<3,>=2.27->streamlit) (2.2.2)\n",
      "Requirement already satisfied: certifi>=2017.4.17 in c:\\users\\hango\\miniconda3\\lib\\site-packages (from requests<3,>=2.27->streamlit) (2024.8.30)\n",
      "Requirement already satisfied: smmap<6,>=3.0.1 in c:\\users\\hango\\miniconda3\\lib\\site-packages (from gitdb<5,>=4.0.1->gitpython!=3.1.19,<4,>=3.0.7->streamlit) (5.0.2)\n",
      "Requirement already satisfied: MarkupSafe>=2.0 in c:\\users\\hango\\miniconda3\\lib\\site-packages (from jinja2->altair<6,>=4.0->streamlit) (2.1.3)\n",
      "Requirement already satisfied: attrs>=22.2.0 in c:\\users\\hango\\miniconda3\\lib\\site-packages (from jsonschema>=3.0->altair<6,>=4.0->streamlit) (23.1.0)\n",
      "Requirement already satisfied: jsonschema-specifications>=2023.03.6 in c:\\users\\hango\\miniconda3\\lib\\site-packages (from jsonschema>=3.0->altair<6,>=4.0->streamlit) (2023.7.1)\n",
      "Requirement already satisfied: referencing>=0.28.4 in c:\\users\\hango\\miniconda3\\lib\\site-packages (from jsonschema>=3.0->altair<6,>=4.0->streamlit) (0.30.2)\n",
      "Requirement already satisfied: rpds-py>=0.7.1 in c:\\users\\hango\\miniconda3\\lib\\site-packages (from jsonschema>=3.0->altair<6,>=4.0->streamlit) (0.10.6)\n",
      "Requirement already satisfied: six>=1.5 in c:\\users\\hango\\miniconda3\\lib\\site-packages (from python-dateutil>=2.8.2->pandas<3,>=1.4.0->streamlit) (1.16.0)\n",
      "Requirement already satisfied: pyngrok in c:\\users\\hango\\miniconda3\\lib\\site-packages (7.2.3)\n",
      "Requirement already satisfied: PyYAML>=5.1 in c:\\users\\hango\\miniconda3\\lib\\site-packages (from pyngrok) (6.0.1)\n"
     ]
    }
   ],
   "source": [
    "!pip install streamlit\n",
    "!pip install pyngrok"
   ]
  },
  {
   "cell_type": "code",
   "execution_count": 5,
   "metadata": {},
   "outputs": [
    {
     "name": "stdout",
     "output_type": "stream",
     "text": [
      "Overwriting app.py\n"
     ]
    }
   ],
   "source": [
    "%%writefile app.py\n",
    "\n",
    "import streamlit as st\n",
    "import pandas as pd\n",
    "import pickle\n",
    "from pyngrok import ngrok\n",
    "\n",
    "# Load the pipeline from the pickle file\n",
    "with open('decision_tree_pipeline.pkl', 'rb') as file:\n",
    "    loaded_pipeline = pickle.load(file)\n",
    "\n",
    "# Set up the Streamlit app title\n",
    "st.title(\"Loan Approval Prediction App\")\n",
    "\n",
    "# Create input fields for user to enter data\n",
    "age = st.number_input(\"Age\", min_value=18, max_value=100, value=30)\n",
    "annual_income = st.number_input(\"Annual Income\", min_value=0, value=50000)\n",
    "credit_score = st.number_input(\"Credit Score\", min_value=300, max_value=850, value=650)\n",
    "employment_status = st.selectbox(\"Employment Status\", [\"Employed\", \"Unemployed\", \"Self-Employed\"])\n",
    "education_level = st.selectbox(\"Education Level\", [\"Bachelor\", \"Master\", \"PhD\"])\n",
    "loan_amount = st.number_input(\"Loan Amount\", min_value=0, value=10000)\n",
    "loan_duration = st.number_input(\"Loan Duration (months)\", min_value=1, value=12)\n",
    "\n",
    "# Create a button to trigger prediction\n",
    "if st.button(\"Predict\"):\n",
    "    # Create a DataFrame from user input\n",
    "    new_data = pd.DataFrame({\n",
    "        'Age': [age],\n",
    "        'AnnualIncome': [annual_income],\n",
    "        'CreditScore': [credit_score],\n",
    "        'EmploymentStatus': [employment_status],\n",
    "        'EducationLevel': [education_level],\n",
    "        'LoanAmount': [loan_amount],\n",
    "        'LoanDuration': [loan_duration]\n",
    "    })\n",
    "\n",
    "    # Make prediction using the loaded pipeline\n",
    "    prediction = loaded_pipeline.predict(new_data)\n",
    "\n",
    "    # Display the prediction\n",
    "    if prediction[0] == 1:\n",
    "        st.success(\"Loan Approved!\")\n",
    "    else:\n",
    "        st.error(\"Loan Rejected.\")"
   ]
  },
  {
   "cell_type": "code",
   "execution_count": 3,
   "metadata": {},
   "outputs": [
    {
     "name": "stdout",
     "output_type": "stream",
     "text": [
      "Authtoken saved to configuration file: C:\\Users\\hango\\AppData\\Local/ngrok/ngrok.yml\n"
     ]
    }
   ],
   "source": [
    "!ngrok config add-authtoken 2tsNiNoomNuTySpm2LKkNwYmYp3_4WUYgiuabV6KRF6Wm71BX"
   ]
  },
  {
   "cell_type": "code",
   "execution_count": null,
   "metadata": {},
   "outputs": [
    {
     "name": "stderr",
     "output_type": "stream",
     "text": [
      "The system cannot find the path specified.\n"
     ]
    },
    {
     "name": "stdout",
     "output_type": "stream",
     "text": [
      "Access your Streamlit app here: NgrokTunnel: \"https://d778-2a09-bac5-d5cd-263c-00-3cf-23.ngrok-free.app\" -> \"http://localhost:8501\"\n"
     ]
    },
    {
     "name": "stderr",
     "output_type": "stream",
     "text": [
      "t=2025-03-11T20:59:53+0700 lvl=warn msg=\"failed to open private leg\" id=4cb91afaa559 privaddr=localhost:8501 err=\"dial tcp [::1]:8501: connectex: No connection could be made because the target machine actively refused it.\"\n",
      "t=2025-03-11T20:59:57+0700 lvl=warn msg=\"failed to open private leg\" id=ff1b577d76a0 privaddr=localhost:8501 err=\"dial tcp [::1]:8501: connectex: No connection could be made because the target machine actively refused it.\"\n"
     ]
    }
   ],
   "source": [
    "from pyngrok import ngrok\n",
    "import threading\n",
    "import time\n",
    "\n",
    "# Start Streamlit in a separate thread\n",
    "def run_streamlit():\n",
    "    !streamlit run app.py --server.port 8501 > /dev/null 2>&1\n",
    "\n",
    "thread = threading.Thread(target=run_streamlit)\n",
    "thread.daemon = True\n",
    "thread.start()\n",
    "\n",
    "# Wait a bit for the server to start\n",
    "time.sleep(3)\n",
    "\n",
    "# Create a public URL with ngrok\n",
    "public_url = ngrok.connect(8501)\n",
    "print(f\"Access your Streamlit app here: {public_url}\")"
   ]
  }
 ],
 "metadata": {
  "kernelspec": {
   "display_name": "base",
   "language": "python",
   "name": "python3"
  },
  "language_info": {
   "codemirror_mode": {
    "name": "ipython",
    "version": 3
   },
   "file_extension": ".py",
   "mimetype": "text/x-python",
   "name": "python",
   "nbconvert_exporter": "python",
   "pygments_lexer": "ipython3",
   "version": "3.12.4"
  }
 },
 "nbformat": 4,
 "nbformat_minor": 2
}
